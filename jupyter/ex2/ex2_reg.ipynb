{
 "cells": [
  {
   "cell_type": "markdown",
   "id": "e98c7e15-29c2-49f5-9c41-5bc0192a391f",
   "metadata": {},
   "source": [
    "# EXERCISE 2.2: REGULARIZED LOGISTIC REGRESSION\n",
    "\n",
    "*This is the programming assignment for **week 3** of the Stanford University **Machine Learning** course on coursera.org*\n",
    "\n",
    "## Before you start\n",
    "\n",
    "Read the original assignment document (ex2.pdf), this will guide you through the assignment.\n",
    "Note that the PDF is the orginal document for the course which assumes you will be implementing the assignment in Matlab/Octave. \n",
    "\n",
    "Do not change any code in this nodebook file; your job is to implement the following:\n",
    "- <u>Task 1</u>: costFunctionReg\n",
    "\n",
    "Variable conventions:\n",
    "- ``m`` : number of training examples (rows in the dataset) - scalar value\n",
    "- ``n`` : number of features in the data (columns in the dataset, excluding the column with result values) - scalar value\n",
    "- ``X_data`` : m x n matrix representing all input data - 2D array\n",
    "- ``X`` : m x (n+1) design matrix, basically X_data preprended with a column of ones - 2D array\n",
    "- ``y`` : m element result vector - 1D array\n",
    "- ``theta`` : n+1 element fitting parameter vector - 1D array"
   ]
  },
  {
   "cell_type": "code",
   "execution_count": 1,
   "id": "6b31d097-7e0c-48fa-9afe-05a4f28f6248",
   "metadata": {},
   "outputs": [],
   "source": [
    "# 3rd party libraries\n",
    "import numpy as np\n",
    "import scipy.optimize as opt  \n",
    "\n",
    "# pre-defined functions\n",
    "from plotDecisionBoundary import plotDecisionBoundary\n",
    "from mapFeature import mapFeature\n",
    "\n",
    "# user defined functions you implemented in the first section of the exercise\n",
    "from plotData import plotData\n",
    "from sigmoid import sigmoid\n",
    "from predict import predict\n",
    "\n",
    "# user defined functions; you will be implementing these \n",
    "from costFunctionReg import costFunctionReg"
   ]
  },
  {
   "cell_type": "markdown",
   "id": "db4fb49a-0ce9-424a-a648-254d89f16398",
   "metadata": {},
   "source": [
    "## Prepare: plot the data"
   ]
  },
  {
   "cell_type": "code",
   "execution_count": 2,
   "id": "4ecd8a58-3e1e-49c5-8484-19d19d075b76",
   "metadata": {},
   "outputs": [
    {
     "data": {
      "text/plain": [
       "<module 'matplotlib.pyplot' from 'C:\\\\dev\\\\sys\\\\Python\\\\Python310\\\\lib\\\\site-packages\\\\matplotlib\\\\pyplot.py'>"
      ]
     },
     "execution_count": 2,
     "metadata": {},
     "output_type": "execute_result"
    },
    {
     "data": {
      "image/png": "[encoded data removed]",
      "text/plain": [
       "<Figure size 432x288 with 1 Axes>"
      ]
     },
     "metadata": {
      "needs_background": "light"
     },
     "output_type": "display_data"
    }
   ],
   "source": [
    "# read the data from the CSV file\n",
    "data = np.genfromtxt('ex2data2.txt', delimiter=',')\n",
    "\n",
    "# separate data into\n",
    "# - features matrix X: all columns but the last  of the dataset\n",
    "# - result vector y: last column of the dataset\n",
    "X = data[:, :-1]\n",
    "y = data[:, -1]\n",
    "\n",
    "# plot the data\n",
    "plotData(X, y, 'passed QA', 'Microchip test 1', 'Microchip test 2')"
   ]
  },
  {
   "cell_type": "markdown",
   "id": "266cdaf6-b654-4485-94bc-aa0f4ff44158",
   "metadata": {},
   "source": [
    "## Part 1: Regularized Logistic Regression\n",
    "\n",
    "In this part, you are given a dataset with data points that are not linearly separable. \n",
    "However, you would still like to use logistic regression to classify the data points.\n",
    "\n",
    "To do so, you introduce more features to use -- \n",
    "in particular, you add polynomial features to our data matrix (similar to polynomial regression).\n",
    "\n",
    "In this part of the exercise you will implement the cost and gradient calculation for *Regularized* logistic regression. \n",
    "\n",
    "<u>Task 1</u>: implement costFunctionReg.py"
   ]
  },
  {
   "cell_type": "code",
   "execution_count": 3,
   "id": "7e319ccc-2813-4dc6-b5f9-2a41f8c51870",
   "metadata": {},
   "outputs": [],
   "source": [
    "# Add Polynomial Features\n",
    "# Note that mapFeature also adds a column of ones for us, so the intercept term is handled\n",
    "\n",
    "X = mapFeature(X[:,0], X[:,1])\n",
    "\n",
    "# Initialize fitting parameters\n",
    "initial_theta = np.zeros(X.shape[1])\n",
    "\n",
    "# Set regularization parameter lambda to 1\n",
    "llambda = 1"
   ]
  },
  {
   "cell_type": "code",
   "execution_count": 4,
   "id": "f833453a-88ed-414b-b400-846838a5b8e6",
   "metadata": {},
   "outputs": [],
   "source": [
    "# Compute cost and gradient for regularized logistic regression\n",
    "# (task 1: implement costfunctionReg.py)\n",
    "cost, grad = costFunctionReg(initial_theta, X, y, llambda)"
   ]
  },
  {
   "cell_type": "code",
   "execution_count": 5,
   "id": "4835e43a-5574-43b5-8e82-93415de00656",
   "metadata": {},
   "outputs": [
    {
     "data": {
      "text/plain": [
       "0.6931471805599454"
      ]
     },
     "execution_count": 5,
     "metadata": {},
     "output_type": "execute_result"
    }
   ],
   "source": [
    "# display cost for initial theta\n",
    "cost"
   ]
  },
  {
   "cell_type": "markdown",
   "id": "4aa9ebc8-9ac9-4f7b-ad68-0889fe430ba6",
   "metadata": {},
   "source": [
    "*(expected cost (approx): 0.693)*"
   ]
  },
  {
   "cell_type": "code",
   "execution_count": 6,
   "id": "8c96216a-65a1-45eb-b6ea-dfeae7a4b877",
   "metadata": {},
   "outputs": [
    {
     "data": {
      "text/plain": [
       "array([8.47457627e-03, 1.87880932e-02, 7.77711864e-05, 5.03446395e-02,\n",
       "       1.15013308e-02])"
      ]
     },
     "execution_count": 6,
     "metadata": {},
     "output_type": "execute_result"
    }
   ],
   "source": [
    "# display gradient - first five values only - for regularized logistic regression for initial theta\n",
    "grad[0:5]"
   ]
  },
  {
   "cell_type": "markdown",
   "id": "20b8b3dd-167f-42c4-8069-81cc56e78d9b",
   "metadata": {},
   "source": [
    "*(expected gradients (approx) - first five values only: 0.0085, 0.0188, 0.0001, 0.0503, 0.0115)*"
   ]
  },
  {
   "cell_type": "markdown",
   "id": "f41ef66b-fe66-4e65-88cf-bf2e1002ca21",
   "metadata": {},
   "source": [
    "## Part 2: Regularization and Accuracies (optional exercise)\n",
    "\n",
    "In this part, you will get to try different values of lambda and see how regularization affects the decision coundart\n",
    "\n",
    "Try the following values of lambda (0, 1, 10, 100).\n",
    "\n",
    "How does the decision boundary change when you vary lambda? How does the training set accuracy vary?\n",
    "\n",
    "*No implementation tasks*"
   ]
  },
  {
   "cell_type": "code",
   "execution_count": 14,
   "id": "a040866d-dd41-462a-a822-3598c85391ef",
   "metadata": {},
   "outputs": [
    {
     "data": {
      "image/png": "[encoded data removed]",
      "text/plain": [
       "<Figure size 432x288 with 1 Axes>"
      ]
     },
     "metadata": {
      "needs_background": "light"
     },
     "output_type": "display_data"
    }
   ],
   "source": [
    "# Set regularization parameter lambda to 1 (you should vary this; try 0, 1, 10, 100)\n",
    "llambda = 0\n",
    "\n",
    "# Initialize fitting parameters\n",
    "initial_theta = np.zeros(X.shape[1])\n",
    "\n",
    "# Run the minimization method to obtain the optimal theta\n",
    "# optimal_theta = opt.fmin_tnc(func=costFunctionReg, fprime=gradientFunctionReg, x0=initial_theta, args=(X, y, llambda))[0]\n",
    "myargs = (X, y, llambda)\n",
    "myoptions = {'disp': False, 'maxiter':400} # set 'disp': True to display detail results of the minimization method\n",
    "optimal_theta = opt.minimize(costFunctionReg, x0=initial_theta, args=myargs, options=myoptions, method=\"BFGS\", jac=True)[\"x\"]\n",
    "\n",
    "# plot data with deision boundary\n",
    "plotDecisionBoundary(optimal_theta, X, y, 'passed QA', 'Microchip test 1', 'Microchip test 2')"
   ]
  },
  {
   "cell_type": "code",
   "execution_count": 8,
   "id": "79368181-6c55-4edf-8ffc-14a0897ca691",
   "metadata": {},
   "outputs": [
    {
     "data": {
      "text/plain": [
       "83.05084745762711"
      ]
     },
     "execution_count": 8,
     "metadata": {},
     "output_type": "execute_result"
    }
   ],
   "source": [
    "# Compute accuracy on our training set\n",
    "p = predict(optimal_theta, X)\n",
    "accuracy = np.mean(np.double(p == y)) * 100\n",
    "accuracy"
   ]
  },
  {
   "cell_type": "markdown",
   "id": "6cf75c95-966c-4e81-927f-07d5ec32c7d4",
   "metadata": {},
   "source": [
    "*(Expected accuracy (with lambda = 1): 83.1 (approx))*"
   ]
  }
 ],
 "metadata": {
  "kernelspec": {
   "display_name": "Python 3 (ipykernel)",
   "language": "python",
   "name": "python3"
  },
  "language_info": {
   "codemirror_mode": {
    "name": "ipython",
    "version": 3
   },
   "file_extension": ".py",
   "mimetype": "text/x-python",
   "name": "python",
   "nbconvert_exporter": "python",
   "pygments_lexer": "ipython3",
   "version": "3.10.2"
  }
 },
 "nbformat": 4,
 "nbformat_minor": 5
}
