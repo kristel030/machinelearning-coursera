{
 "cells": [
  {
   "cell_type": "markdown",
   "id": "e98c7e15-29c2-49f5-9c41-5bc0192a391f",
   "metadata": {},
   "source": [
    "# EXERCISE 2.1: LOGISTIC REGRESSION\n",
    "\n",
    "*This is the programming assignment for **week 3** of the Stanford University **Machine Learning** course on coursera.org*\n",
    "\n",
    "## Before you start\n",
    "\n",
    "Read the original assignment document (ex2.pdf), this will guide you through the assignment.\n",
    "Note that the PDF is the orginal document for the course which assumes you will be implementing the assignment in Matlab/Octave. \n",
    "\n",
    "Do not change any code in this nodebook file; your job is to implement the following:\n",
    "- <u>Task 1</u>: plotData.py (optional exercise)\n",
    "- <u>Task 2</u>: sigmoid.py\n",
    "- <u>Task 3</u>: costFunction.py\n",
    "- <u>Task 4</u>: predict.py\n",
    "\n",
    "Variable conventions:\n",
    "- ``m`` : number of training examples (rows in the dataset) - scalar value\n",
    "- ``n`` : number of features in the data (columns in the dataset, excluding the column with result values) - scalar value\n",
    "- ``X_data`` : m x n matrix representing all input data - 2D array\n",
    "  - ``X_data[i,j]`` = value of input feature ``j`` for training example ``i`` \n",
    "- ``X`` : m x (n+1) design matrix, basically X_data preprended with a column of ones - 2D array\n",
    "- ``y`` : m element result vector - 1D array\n",
    "  - this is the original result vector as used for the MATLAB/Octave implementation, where ``10`` is used to represent the digit ``0``;\n",
    "    MATLAB/Octave uses 1-based indexing which has lead to this '0 = 10' design decision\n",
    "- ``y_rebased`` : \n",
    "  - slightly altered version of ``y``, which makes it more more suitable to use it in Python's 0-based indexing environment\n",
    "  - all ``10`` values are replaced by ``0`` values, all other values are the same\n",
    "- ``theta`` : n+1 element fitting parameter vector - 1D array\n",
    "\n",
    "https://github.com/arturomp/coursera-machine-learning-in-python/tree/master/mlclass-ex2-004/mlclass-ex2\n"
   ]
  },
  {
   "cell_type": "code",
   "execution_count": 1,
   "id": "6b31d097-7e0c-48fa-9afe-05a4f28f6248",
   "metadata": {},
   "outputs": [],
   "source": [
    "# 3rd party libraries\n",
    "import numpy as np\n",
    "import scipy.optimize as opt\n",
    "\n",
    "# pre-defined functions\n",
    "from plotDecisionBoundary import plotDecisionBoundary\n",
    "\n",
    "# user defined functions; you will be implementing these \n",
    "from plotData import plotData                 # task 1\n",
    "from sigmoid import sigmoid                   # task 2\n",
    "from costFunction import costFunction         # task 3\n",
    "from predict import predict                   # task 4"
   ]
  },
  {
   "cell_type": "markdown",
   "id": "db4fb49a-0ce9-424a-a648-254d89f16398",
   "metadata": {},
   "source": [
    "## Part 1: Plotting \n",
    "\n",
    "We start the exercise by first plotting the data to understand the problem we are working with.\n",
    "\n",
    "<u>Task 1</u>: implement plotData.py (optional exercise)"
   ]
  },
  {
   "cell_type": "code",
   "execution_count": 2,
   "id": "4ecd8a58-3e1e-49c5-8484-19d19d075b76",
   "metadata": {},
   "outputs": [
    {
     "data": {
      "text/plain": [
       "<module 'matplotlib.pyplot' from 'C:\\\\dev\\\\sys\\\\Python\\\\Python310\\\\lib\\\\site-packages\\\\matplotlib\\\\pyplot.py'>"
      ]
     },
     "execution_count": 2,
     "metadata": {},
     "output_type": "execute_result"
    },
    {
     "data": {
      "image/png": "[encoded data removed]",
      "text/plain": [
       "<Figure size 432x288 with 1 Axes>"
      ]
     },
     "metadata": {
      "needs_background": "light"
     },
     "output_type": "display_data"
    }
   ],
   "source": [
    "# read the data from the CSV file\n",
    "data = np.genfromtxt('ex2data1.txt', delimiter=',')\n",
    "\n",
    "# separate data into\n",
    "# - features matrix X_data: all columns but the last of the dataset\n",
    "# - result vector y: last column  of the dataset\n",
    "X_data = data[:, :-1]\n",
    "y = data[:, -1]\n",
    "\n",
    "# Task 1: implement the plotData method\n",
    "plotData(X_data, y, 'University admittance', 'Exam 1 score', 'Exam 2 score')"
   ]
  },
  {
   "cell_type": "markdown",
   "id": "266cdaf6-b654-4485-94bc-aa0f4ff44158",
   "metadata": {
    "tags": []
   },
   "source": [
    "## Part 2: Compute Cost and Gradient\n",
    "\n",
    "In this part of the exercise you will implement a method to calculate the cost and gradient for logistic regression for a particular value of theta.\n",
    "\n",
    "<u>Task 2</u>: implement sigmoid.py\n",
    "\n",
    "<u>Task 3</u>: implement costFunction.py"
   ]
  },
  {
   "cell_type": "code",
   "execution_count": 3,
   "id": "7e319ccc-2813-4dc6-b5f9-2a41f8c51870",
   "metadata": {},
   "outputs": [
    {
     "data": {
      "text/plain": [
       "0.5"
      ]
     },
     "execution_count": 3,
     "metadata": {},
     "output_type": "execute_result"
    }
   ],
   "source": [
    "# Task 2: implement the sigmoid function, should work for scalars, vectors and matrices\n",
    "sigmoid(0)"
   ]
  },
  {
   "cell_type": "markdown",
   "id": "b2d60720-48fb-4581-a5f2-9c2f4e6421a8",
   "metadata": {},
   "source": [
    "*(expected value: 0.5)*"
   ]
  },
  {
   "cell_type": "code",
   "execution_count": 4,
   "id": "9c4e077f-5b62-45fb-9e58-4d8251164d78",
   "metadata": {},
   "outputs": [
    {
     "name": "stderr",
     "output_type": "stream",
     "text": [
      "C:\\dev\\git\\machinelearning-coursera\\jupyter\\ex2\\sigmoid.py:10: RuntimeWarning: overflow encountered in exp\n",
      "  z = exp(-x)\n"
     ]
    },
    {
     "data": {
      "text/plain": [
       "array([0.5       , 0.73105858, 0.        , 1.        ])"
      ]
     },
     "execution_count": 4,
     "metadata": {},
     "output_type": "execute_result"
    }
   ],
   "source": [
    "sigmoid(np.array([0, 1, -1000000, 1000000]))"
   ]
  },
  {
   "cell_type": "markdown",
   "id": "dd4a8ca6-22b0-4d36-8bb0-e5e7acbfd877",
   "metadata": {},
   "source": [
    "*(expected values: [0.5       , 0.73105858, 0.        , 1.        ])*"
   ]
  },
  {
   "cell_type": "code",
   "execution_count": 5,
   "id": "a84a437c-991a-4aeb-937c-6ae880ae6708",
   "metadata": {},
   "outputs": [
    {
     "data": {
      "text/plain": [
       "array([[0.5       , 0.73105858],\n",
       "       [0.        , 1.        ]])"
      ]
     },
     "execution_count": 5,
     "metadata": {},
     "output_type": "execute_result"
    }
   ],
   "source": [
    "sigmoid(np.array([[0, 1], [-1000000, 1000000]]))"
   ]
  },
  {
   "cell_type": "markdown",
   "id": "0ce9763e-5596-4624-a227-77a5e1f7432f",
   "metadata": {},
   "source": [
    "*(expected values: [[0.5       , 0.73105858],       [0.        , 1.        ]])*"
   ]
  },
  {
   "cell_type": "code",
   "execution_count": 6,
   "id": "976e61e6-d051-46c3-81db-0279876412fa",
   "metadata": {},
   "outputs": [],
   "source": [
    "# Create the 'design matrix' X by adding a column of ones (for the intercept term) to the front of X_data\n",
    "m = X_data.shape[0]\n",
    "X = np.append( np.ones((m,1)), X_data, axis=1)\n",
    "\n",
    "# Initialize fitting parameters\n",
    "n = X_data.shape[1]\n",
    "initial_theta = np.zeros(n+1)"
   ]
  },
  {
   "cell_type": "code",
   "execution_count": 7,
   "id": "8093bd76-d9b8-4a9e-8f6f-88c90458b8a2",
   "metadata": {},
   "outputs": [],
   "source": [
    "# Compute and display cost and gradient for initial theta\n",
    "# (Task 3: implement costFunction.py)\n",
    "cost, grad = costFunction(initial_theta, X, y)"
   ]
  },
  {
   "cell_type": "code",
   "execution_count": 8,
   "id": "c2063936-862a-43ef-b665-17089596eeb5",
   "metadata": {},
   "outputs": [
    {
     "data": {
      "text/plain": [
       "0.6931471805599453"
      ]
     },
     "execution_count": 8,
     "metadata": {},
     "output_type": "execute_result"
    }
   ],
   "source": [
    "# display cost for initial theta\n",
    "cost"
   ]
  },
  {
   "cell_type": "markdown",
   "id": "a0897127-2abc-4966-a5ee-a88ea85ecf77",
   "metadata": {},
   "source": [
    "*(expected value (approx): 0.693)* "
   ]
  },
  {
   "cell_type": "code",
   "execution_count": 9,
   "id": "31db1ba6-9d93-4659-8fae-b6671ab89c3c",
   "metadata": {},
   "outputs": [
    {
     "data": {
      "text/plain": [
       "array([ -0.1       , -12.00921659, -11.26284221])"
      ]
     },
     "execution_count": 9,
     "metadata": {},
     "output_type": "execute_result"
    }
   ],
   "source": [
    "# display gradient for initial theta\n",
    "grad"
   ]
  },
  {
   "cell_type": "markdown",
   "id": "d95a73cf-b9b5-4357-abcc-a1dce2f33b0e",
   "metadata": {},
   "source": [
    "*(expected values (approx): -0.1000, -12.0092, -11.2628)*"
   ]
  },
  {
   "cell_type": "code",
   "execution_count": 10,
   "id": "e5299aac-636c-4117-beda-c0193e2d4c17",
   "metadata": {},
   "outputs": [],
   "source": [
    "# Compute cost and gradient with non-zero theta\n",
    "test_theta = np.array([-24, 0.2, 0.2])\n",
    "cost, grad = costFunction(test_theta, X, y)"
   ]
  },
  {
   "cell_type": "code",
   "execution_count": 11,
   "id": "46fb70fe-8a81-4094-aa34-0aeace28f9b9",
   "metadata": {},
   "outputs": [
    {
     "data": {
      "text/plain": [
       "0.21833019382659777"
      ]
     },
     "execution_count": 11,
     "metadata": {},
     "output_type": "execute_result"
    }
   ],
   "source": [
    "# display cost for non-zero theta\n",
    "cost"
   ]
  },
  {
   "cell_type": "markdown",
   "id": "6d2ec284-d483-4a65-9581-41c53a664d76",
   "metadata": {},
   "source": [
    "*(expected value (approx): 0.218)*"
   ]
  },
  {
   "cell_type": "code",
   "execution_count": 12,
   "id": "e0708a2a-63bf-4679-b48b-a0ffc619385a",
   "metadata": {},
   "outputs": [
    {
     "data": {
      "text/plain": [
       "array([0.04290299, 2.56623412, 2.64679737])"
      ]
     },
     "execution_count": 12,
     "metadata": {},
     "output_type": "execute_result"
    }
   ],
   "source": [
    "# display gradient with non-zero theta\n",
    "grad"
   ]
  },
  {
   "cell_type": "markdown",
   "id": "b94e0f60-a029-43c5-bf68-da571ceee215",
   "metadata": {},
   "source": [
    "*(expected values (approx): 0.043, 2.566, 2.647)*"
   ]
  },
  {
   "cell_type": "markdown",
   "id": "f41ef66b-fe66-4e65-88cf-bf2e1002ca21",
   "metadata": {},
   "source": [
    "## Part 3: Optimizing using built-in cost optimization \n",
    "\n",
    "In this part we will use a built-in cost minimalisation mechanism to find the optimal parameters theta.\n",
    "\n",
    "Note: The Matlab/Octave exercise description uses the Matlab specific optimization method ``fminunc`` to calculate the optimal theta value. The ``scipy.optimize.minimze`` minimization wrapper combined with the ``BFGS`` minimization method is the python equivalent.\n",
    "\n",
    "*No tasks*"
   ]
  },
  {
   "cell_type": "code",
   "execution_count": 13,
   "id": "a040866d-dd41-462a-a822-3598c85391ef",
   "metadata": {},
   "outputs": [
    {
     "name": "stdout",
     "output_type": "stream",
     "text": [
      "Optimization terminated successfully.\n",
      "         Current function value: 0.203498\n",
      "         Iterations: 23\n",
      "         Function evaluations: 31\n",
      "         Gradient evaluations: 31\n"
     ]
    },
    {
     "name": "stderr",
     "output_type": "stream",
     "text": [
      "C:\\dev\\git\\machinelearning-coursera\\jupyter\\ex2\\costFunction.py:53: RuntimeWarning: divide by zero encountered in log\n",
      "  _J = (-(y.T) @ log(h) - (1-y).T @ log(1-h)) / m\n",
      "C:\\dev\\git\\machinelearning-coursera\\jupyter\\ex2\\costFunction.py:53: RuntimeWarning: invalid value encountered in matmul\n",
      "  _J = (-(y.T) @ log(h) - (1-y).T @ log(1-h)) / m\n"
     ]
    },
    {
     "data": {
      "text/plain": [
       "array([-25.16133284,   0.2062317 ,   0.2014716 ])"
      ]
     },
     "execution_count": 13,
     "metadata": {},
     "output_type": "execute_result"
    }
   ],
   "source": [
    "# Run `minimize` to obtain the optimal theta.\n",
    "# This function takes the `costFunction` you implemented earlier as a parameter.\n",
    "\n",
    "myargs = (X, y)\n",
    "myoptions = {'disp': False, 'maxiter':400} # set 'disp': True to display detail results of the minimization method\n",
    "optimal_theta = opt.minimize(costFunction, x0=initial_theta, args=myargs, options=myoptions, method=\"BFGS\", jac=True)[\"x\"]\n",
    "optimal_theta"
   ]
  },
  {
   "cell_type": "code",
   "execution_count": 14,
   "id": "04347ddd-962a-4545-a33d-6c93d48105e9",
   "metadata": {},
   "outputs": [
    {
     "data": {
      "text/plain": [
       "0.20349770158944375"
      ]
     },
     "execution_count": 14,
     "metadata": {},
     "output_type": "execute_result"
    }
   ],
   "source": [
    "# calculate the costs for this specific value of theta\n",
    "cost, _ = costFunction(optimal_theta, X, y)\n",
    "cost"
   ]
  },
  {
   "cell_type": "code",
   "execution_count": 15,
   "id": "992aff4a-b229-43b2-b48e-7cbd6fd3d78c",
   "metadata": {},
   "outputs": [
    {
     "data": {
      "image/png": "[encoded data removed]",
      "text/plain": [
       "<Figure size 432x288 with 1 Axes>"
      ]
     },
     "metadata": {
      "needs_background": "light"
     },
     "output_type": "display_data"
    }
   ],
   "source": [
    "# plot data with decision boundary\n",
    "plotDecisionBoundary(optimal_theta, X, y, 'University admittance', 'Exam 1 score', 'Exam 2 score')"
   ]
  },
  {
   "cell_type": "markdown",
   "id": "fddb8022-de30-4bf7-9714-bbc304358072",
   "metadata": {},
   "source": [
    "## Part 4: Predict and Accuracies\n",
    "\n",
    "Predict the outcomes on unseen data. Furthermore, you will compute the training and test set accuracies of our model. \n",
    "\n",
    "<u>Task 5:</u> implement predict.py\n",
    "\n",
    " "
   ]
  },
  {
   "cell_type": "code",
   "execution_count": 16,
   "id": "d95ea4e9-8d7f-4b7f-8b7c-ac4eaafaad40",
   "metadata": {},
   "outputs": [
    {
     "data": {
      "text/plain": [
       "0.7762907240588942"
      ]
     },
     "execution_count": 16,
     "metadata": {},
     "output_type": "execute_result"
    }
   ],
   "source": [
    "# Predict probability for a student with score 45 on exam 1 and score 85 on exam 2 will be admitted\n",
    "prob = sigmoid(np.array([1, 45, 85]) @ optimal_theta)\n",
    "prob"
   ]
  },
  {
   "cell_type": "markdown",
   "id": "8ea180b0-e0ea-4349-98e5-6a349a2d05d9",
   "metadata": {},
   "source": [
    "*(expected value: 0.775 +/- 0.002)*"
   ]
  },
  {
   "cell_type": "code",
   "execution_count": 17,
   "id": "79368181-6c55-4edf-8ffc-14a0897ca691",
   "metadata": {},
   "outputs": [
    {
     "data": {
      "text/plain": [
       "89.0"
      ]
     },
     "execution_count": 17,
     "metadata": {},
     "output_type": "execute_result"
    }
   ],
   "source": [
    "# Compute accuracy on our training set\n",
    "# (task 4: implement predict.py) \n",
    "p = predict(optimal_theta, X)\n",
    "accuracy = np.mean(np.double(p == y)) * 100\n",
    "accuracy"
   ]
  },
  {
   "cell_type": "markdown",
   "id": "6cf75c95-966c-4e81-927f-07d5ec32c7d4",
   "metadata": {},
   "source": [
    "*(expected accuracy (approx): 89.0)*"
   ]
  },
  {
   "cell_type": "code",
   "execution_count": null,
   "id": "6599793a-0f73-4b99-acce-c6e9166e0e5d",
   "metadata": {},
   "outputs": [],
   "source": []
  }
 ],
 "metadata": {
  "kernelspec": {
   "display_name": "Python 3 (ipykernel)",
   "language": "python",
   "name": "python3"
  },
  "language_info": {
   "codemirror_mode": {
    "name": "ipython",
    "version": 3
   },
   "file_extension": ".py",
   "mimetype": "text/x-python",
   "name": "python",
   "nbconvert_exporter": "python",
   "pygments_lexer": "ipython3",
   "version": "3.10.2"
  }
 },
 "nbformat": 4,
 "nbformat_minor": 5
}
