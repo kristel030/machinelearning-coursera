{
 "cells": [
  {
   "cell_type": "code",
   "execution_count": 1,
   "id": "f879b11a-65c3-4ce1-836d-ab370c081bec",
   "metadata": {},
   "outputs": [],
   "source": [
    "import numpy as np\n",
    "import matplotlib.pyplot as plt"
   ]
  },
  {
   "cell_type": "markdown",
   "id": "4647513e-57ee-4b74-a5a2-02ceeca0285e",
   "metadata": {},
   "source": [
    "**Defining vectors (1D arrays) and matrices (2D arrays)**"
   ]
  },
  {
   "cell_type": "code",
   "execution_count": 2,
   "id": "0bb866cc-e3aa-4035-9e53-cb88c2d1ca34",
   "metadata": {},
   "outputs": [
    {
     "data": {
      "text/plain": [
       "array([11, 12])"
      ]
     },
     "execution_count": 2,
     "metadata": {},
     "output_type": "execute_result"
    }
   ],
   "source": [
    "# 1D array\n",
    "y = np.array([11,12])\n",
    "y"
   ]
  },
  {
   "cell_type": "code",
   "execution_count": 3,
   "id": "98b0a1d0-4074-46cf-88e2-a59359c97a9b",
   "metadata": {},
   "outputs": [
    {
     "data": {
      "text/plain": [
       "array([[10],\n",
       "       [20],\n",
       "       [30]])"
      ]
     },
     "execution_count": 3,
     "metadata": {},
     "output_type": "execute_result"
    }
   ],
   "source": [
    "# 2D array, with a single column\n",
    "Z = np.array([[10], [20], [30]])\n",
    "Z"
   ]
  },
  {
   "cell_type": "code",
   "execution_count": 4,
   "id": "867e6043-609f-49c2-9aea-a20cb1ecd894",
   "metadata": {},
   "outputs": [
    {
     "data": {
      "text/plain": [
       "array([[1, 2, 3],\n",
       "       [4, 5, 6]])"
      ]
     },
     "execution_count": 4,
     "metadata": {},
     "output_type": "execute_result"
    }
   ],
   "source": [
    "# 2D array\n",
    "X = np.array([[1, 2, 3], [4, 5, 6]])\n",
    "X # print X   "
   ]
  },
  {
   "cell_type": "markdown",
   "id": "864728b7-e51f-4c15-9c91-ee49f023e212",
   "metadata": {},
   "source": [
    "**Defining special matrices**"
   ]
  },
  {
   "cell_type": "code",
   "execution_count": 5,
   "id": "14efe2b5-e00f-462b-ae9b-7b66a78e9a6a",
   "metadata": {},
   "outputs": [
    {
     "data": {
      "text/plain": [
       "array([[0., 0., 0.],\n",
       "       [0., 0., 0.]])"
      ]
     },
     "execution_count": 5,
     "metadata": {},
     "output_type": "execute_result"
    }
   ],
   "source": [
    "# all zeros\n",
    "zeros = np.zeros((2,3))\n",
    "zeros"
   ]
  },
  {
   "cell_type": "code",
   "execution_count": 6,
   "id": "be52886b-762a-4217-974b-5823f809b0eb",
   "metadata": {},
   "outputs": [
    {
     "data": {
      "text/plain": [
       "array([[1., 1., 1.],\n",
       "       [1., 1., 1.]])"
      ]
     },
     "execution_count": 6,
     "metadata": {},
     "output_type": "execute_result"
    }
   ],
   "source": [
    "# all ones\n",
    "ones = np.ones((2,3))\n",
    "ones"
   ]
  },
  {
   "cell_type": "code",
   "execution_count": 7,
   "id": "2d8421da-ccad-4bfe-908e-cdc5a42024f4",
   "metadata": {},
   "outputs": [
    {
     "data": {
      "text/plain": [
       "array([[1., 0., 0.],\n",
       "       [0., 1., 0.],\n",
       "       [0., 0., 1.]])"
      ]
     },
     "execution_count": 7,
     "metadata": {},
     "output_type": "execute_result"
    }
   ],
   "source": [
    "# identity matrix\n",
    "id = np.identity(3)\n",
    "id"
   ]
  },
  {
   "cell_type": "code",
   "execution_count": 8,
   "id": "c064bc7d-5e38-4920-996e-989ed23ac4b8",
   "metadata": {},
   "outputs": [],
   "source": [
    "# there is no build in support for magic matrices like there is in matlab/Octave\n"
   ]
  },
  {
   "cell_type": "markdown",
   "id": "13a5191b-ddb4-4b2f-8a58-2dd6269eb1fb",
   "metadata": {},
   "source": [
    "**Matrix and vector dimensions (known as 'shape' in numpy)**"
   ]
  },
  {
   "cell_type": "code",
   "execution_count": 9,
   "id": "edc6a1b2-0afd-45ab-8933-29a8876ae6b3",
   "metadata": {},
   "outputs": [
    {
     "data": {
      "text/plain": [
       "(2, 3)"
      ]
     },
     "execution_count": 9,
     "metadata": {},
     "output_type": "execute_result"
    }
   ],
   "source": [
    "# dimensions of matrix X, returns (#rows, #columns)\n",
    "X.shape"
   ]
  },
  {
   "cell_type": "code",
   "execution_count": 10,
   "id": "1a01615a-eb37-46a3-ac11-bb493a150b8e",
   "metadata": {},
   "outputs": [
    {
     "data": {
      "text/plain": [
       "2"
      ]
     },
     "execution_count": 10,
     "metadata": {},
     "output_type": "execute_result"
    }
   ],
   "source": [
    "# number of rows in a matrix\n",
    "X.shape[0]"
   ]
  },
  {
   "cell_type": "code",
   "execution_count": 11,
   "id": "6bf9e287-771a-4355-9445-298faf84f59d",
   "metadata": {},
   "outputs": [
    {
     "data": {
      "text/plain": [
       "3"
      ]
     },
     "execution_count": 11,
     "metadata": {},
     "output_type": "execute_result"
    }
   ],
   "source": [
    "# number of columns in a matrix\n",
    "X.shape[1]"
   ]
  },
  {
   "cell_type": "code",
   "execution_count": 12,
   "id": "16d92225-ec98-4519-b6c1-eb8f18cc70c1",
   "metadata": {},
   "outputs": [
    {
     "data": {
      "text/plain": [
       "(2,)"
      ]
     },
     "execution_count": 12,
     "metadata": {},
     "output_type": "execute_result"
    }
   ],
   "source": [
    "# dimensions of a vector\n",
    "y.shape"
   ]
  },
  {
   "cell_type": "code",
   "execution_count": 13,
   "id": "7b2c44b9-d185-4f42-90d6-165edcc73be9",
   "metadata": {},
   "outputs": [
    {
     "data": {
      "text/plain": [
       "2"
      ]
     },
     "execution_count": 13,
     "metadata": {},
     "output_type": "execute_result"
    }
   ],
   "source": [
    "# number of items in a vector\n",
    "y.shape[0]"
   ]
  },
  {
   "cell_type": "code",
   "execution_count": 14,
   "id": "e4d05b4e-abb0-4170-8a4c-c0a2e9133d2c",
   "metadata": {},
   "outputs": [],
   "source": [
    "# note: y.shape[1] will result in 'IndexError: tuple index out of range'"
   ]
  },
  {
   "cell_type": "markdown",
   "id": "e2c29595-a757-4b7b-83af-38c18523b1a6",
   "metadata": {},
   "source": [
    "**Matrix selections (rows, columns, cells)**"
   ]
  },
  {
   "cell_type": "code",
   "execution_count": 15,
   "id": "4464c2a8-cec4-4bed-93e5-1627c6c138e8",
   "metadata": {},
   "outputs": [
    {
     "data": {
      "text/plain": [
       "array([[1],\n",
       "       [4]])"
      ]
     },
     "execution_count": 15,
     "metadata": {},
     "output_type": "execute_result"
    }
   ],
   "source": [
    "# sub-matrix containing only the first column of a given matrix (numpy uses 0-index)\n",
    "col = X[:, 0, None]\n",
    "col"
   ]
  },
  {
   "cell_type": "code",
   "execution_count": 16,
   "id": "25d5e148-ab8a-4e67-b0b6-f48ba90d7a0b",
   "metadata": {},
   "outputs": [
    {
     "data": {
      "text/plain": [
       "array([1, 4])"
      ]
     },
     "execution_count": 16,
     "metadata": {},
     "output_type": "execute_result"
    }
   ],
   "source": [
    "# select the first column of a given matrix as a vector (1D array)\n",
    "col = X[:, 0]\n",
    "col"
   ]
  },
  {
   "cell_type": "code",
   "execution_count": 17,
   "id": "f0d779f4-9690-4fb2-8318-7380a0f12ee2",
   "metadata": {},
   "outputs": [
    {
     "data": {
      "text/plain": [
       "array([[1., 0.],\n",
       "       [0., 1.],\n",
       "       [0., 0.]])"
      ]
     },
     "execution_count": 17,
     "metadata": {},
     "output_type": "execute_result"
    }
   ],
   "source": [
    "# sub-matrix containing the first and second column of a given matrix (numpy uses 0-index)\n",
    "A = np.identity(3)\n",
    "A_sub = A[:, 0:2] # select column 0 untill (but not including) column 3\n",
    "A_sub"
   ]
  },
  {
   "cell_type": "markdown",
   "id": "40b75786-1220-48bd-aea1-fa0bca067e41",
   "metadata": {},
   "source": [
    "**Matrix operations**"
   ]
  },
  {
   "cell_type": "code",
   "execution_count": 18,
   "id": "562b21c6-2ced-42e0-872e-3d1f771816d6",
   "metadata": {},
   "outputs": [
    {
     "data": {
      "text/plain": [
       "array([[140],\n",
       "       [320]])"
      ]
     },
     "execution_count": 18,
     "metadata": {},
     "output_type": "execute_result"
    }
   ],
   "source": [
    "# multiplication - both operands must be a 2D array\n",
    "A = X @ Z\n",
    "A # print A"
   ]
  },
  {
   "cell_type": "code",
   "execution_count": 19,
   "id": "26035a99-20d0-48df-a211-e6df5623705f",
   "metadata": {},
   "outputs": [
    {
     "data": {
      "text/plain": [
       "array([[1, 4],\n",
       "       [2, 5],\n",
       "       [3, 6]])"
      ]
     },
     "execution_count": 19,
     "metadata": {},
     "output_type": "execute_result"
    }
   ],
   "source": [
    "# transpose\n",
    "X_t = X.T\n",
    "X_t"
   ]
  },
  {
   "cell_type": "code",
   "execution_count": 20,
   "id": "4fe661e8-13f0-48df-9ce3-9d98a20fe0cb",
   "metadata": {},
   "outputs": [
    {
     "data": {
      "text/plain": [
       "array([[11],\n",
       "       [12]])"
      ]
     },
     "execution_count": 20,
     "metadata": {},
     "output_type": "execute_result"
    }
   ],
   "source": [
    "# translate 1D array into single column 2D array (or matrix)\n",
    "Y = y.reshape(y.shape[0],-1)\n",
    "Y"
   ]
  },
  {
   "cell_type": "code",
   "execution_count": 21,
   "id": "88dadbd2-adf1-4de6-a7b2-2b6d16858604",
   "metadata": {},
   "outputs": [
    {
     "data": {
      "text/plain": [
       "array([[-2. ,  1. ],\n",
       "       [ 1.5, -0.5]])"
      ]
     },
     "execution_count": 21,
     "metadata": {},
     "output_type": "execute_result"
    }
   ],
   "source": [
    "# inverse\n",
    "A = np.array([[1, 2], [3, 4]])\n",
    "A_inv = np.linalg.inv(A)\n",
    "A_inv"
   ]
  },
  {
   "cell_type": "code",
   "execution_count": 22,
   "id": "b201dadc-4247-4f15-9776-771cacc11b60",
   "metadata": {},
   "outputs": [
    {
     "data": {
      "text/plain": [
       "array([[2, 3, 4],\n",
       "       [5, 6, 7]])"
      ]
     },
     "execution_count": 22,
     "metadata": {},
     "output_type": "execute_result"
    }
   ],
   "source": [
    "# element wise +1\n",
    "X + 1"
   ]
  },
  {
   "cell_type": "code",
   "execution_count": 23,
   "id": "d2497148-3082-4d37-9823-0f224d2cedb0",
   "metadata": {},
   "outputs": [
    {
     "data": {
      "text/plain": [
       "array([[ 2,  4,  6],\n",
       "       [ 8, 10, 12]])"
      ]
     },
     "execution_count": 23,
     "metadata": {},
     "output_type": "execute_result"
    }
   ],
   "source": [
    "# element wise x2\n",
    "X * 2"
   ]
  },
  {
   "cell_type": "markdown",
   "id": "2571cac7-6b78-4407-82ff-787ed6561aa0",
   "metadata": {},
   "source": [
    "**Reading data from file**"
   ]
  },
  {
   "cell_type": "code",
   "execution_count": null,
   "id": "302b2d8f-c50e-4043-bbd6-c387ef8e63b0",
   "metadata": {},
   "outputs": [],
   "source": []
  },
  {
   "cell_type": "markdown",
   "id": "aee6fff5-035e-4e07-b477-b438c8ea6c3b",
   "metadata": {},
   "source": [
    "**Plotting**"
   ]
  },
  {
   "cell_type": "code",
   "execution_count": 24,
   "id": "40bb440f-8582-49bb-b0f8-7639e1c43396",
   "metadata": {},
   "outputs": [],
   "source": [
    "data = np.array([[1, 1], [2, 1], [3, 2], [4, 2], [5, 3], [6, 3]])\n",
    "X = data[:, 0, None]\n",
    "Y = data[:, 1, None]"
   ]
  },
  {
   "cell_type": "code",
   "execution_count": 25,
   "id": "ffd7236f-79a5-462a-88f9-8476d1eb20ea",
   "metadata": {
    "tags": []
   },
   "outputs": [
    {
     "data": {
      "image/png": "[encoded data removed]",
      "text/plain": [
       "<Figure size 432x288 with 1 Axes>"
      ]
     },
     "metadata": {
      "needs_background": "light"
     },
     "output_type": "display_data"
    }
   ],
   "source": [
    "# default scatter plot \n",
    "plt.scatter(X,Y)\n",
    "plt.show()"
   ]
  },
  {
   "cell_type": "code",
   "execution_count": 26,
   "id": "619f627f-3758-42c1-8c76-043e9043e782",
   "metadata": {
    "tags": []
   },
   "outputs": [
    {
     "data": {
      "image/png": "[encoded data removed]",
      "text/plain": [
       "<Figure size 432x288 with 1 Axes>"
      ]
     },
     "metadata": {
      "needs_background": "light"
     },
     "output_type": "display_data"
    }
   ],
   "source": [
    "# add title and axis labels\n",
    "plt.title(\"house prices\")\n",
    "plt.xlabel(\"city population (in 10,000s)\")\n",
    "plt.ylabel(\"price\")\n",
    "plt.scatter(X, Y)\n",
    "plt.show()"
   ]
  },
  {
   "cell_type": "code",
   "execution_count": 27,
   "id": "408887b5-ba15-4ddc-84cb-913fe068a438",
   "metadata": {
    "tags": []
   },
   "outputs": [
    {
     "data": {
      "image/png": "[encoded data removed]",
      "text/plain": [
       "<Figure size 432x288 with 1 Axes>"
      ]
     },
     "metadata": {
      "needs_background": "light"
     },
     "output_type": "display_data"
    }
   ],
   "source": [
    "# change marker symbol and color\n",
    "plt.scatter(X, Y, marker=\"x\", color=\"red\")\n",
    "plt.show()"
   ]
  },
  {
   "cell_type": "code",
   "execution_count": 28,
   "id": "17137b5a-b2d7-4512-8068-0c9a6ecc8b78",
   "metadata": {},
   "outputs": [
    {
     "data": {
      "image/png": "[encoded data removed]",
      "text/plain": [
       "<Figure size 432x288 with 1 Axes>"
      ]
     },
     "metadata": {
      "needs_background": "light"
     },
     "output_type": "display_data"
    }
   ],
   "source": [
    "# combine measurements scatter plot with linear regression hypothesis line\n",
    "H = np.array([[0.5],[1],[1.5],[2],[2.5],[3]])\n",
    "plt.scatter(X, Y, marker=\"x\", color=\"red\", label=\"training data\") # input data\n",
    "plt.plot(X, H, '-', label=\"linear regression hypothesis\") # linear regression hypothesis\n",
    "plt.xlim(xmin=0) # start x-axis at 0\n",
    "plt.legend()\n",
    "plt.show()"
   ]
  },
  {
   "cell_type": "code",
   "execution_count": null,
   "id": "f725d74d-773b-4b9b-8070-78e708f6bf7f",
   "metadata": {},
   "outputs": [],
   "source": []
  }
 ],
 "metadata": {
  "kernelspec": {
   "display_name": "Python 3 (ipykernel)",
   "language": "python",
   "name": "python3"
  },
  "language_info": {
   "codemirror_mode": {
    "name": "ipython",
    "version": 3
   },
   "file_extension": ".py",
   "mimetype": "text/x-python",
   "name": "python",
   "nbconvert_exporter": "python",
   "pygments_lexer": "ipython3",
   "version": "3.10.2"
  }
 },
 "nbformat": 4,
 "nbformat_minor": 5
}
